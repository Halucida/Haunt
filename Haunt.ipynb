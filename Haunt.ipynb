{
  "nbformat": 4,
  "nbformat_minor": 0,
  "metadata": {
    "colab": {
      "provenance": [],
      "gpuType": "T4",
      "authorship_tag": "ABX9TyOpH23J5U6Dr/R5ScqC4z3a"
    },
    "kernelspec": {
      "name": "python3",
      "display_name": "Python 3"
    },
    "language_info": {
      "name": "python"
    },
    "accelerator": "GPU"
  },
  "cells": [
    {
      "cell_type": "code",
      "execution_count": null,
      "metadata": {
        "id": "JDOBUAoIY3Zk"
      },
      "outputs": [],
      "source": [
        "import os\n",
        "\n",
        "import shutil, random, pathlib\n",
        "\n",
        "import tensorflow as tf\n",
        "\n",
        "from tensorflow.keras import utils, layers\n",
        "\n",
        "from Haunt import Helper"
      ]
    },
    {
      "cell_type": "markdown",
      "source": [
        "### ```Holla```"
      ],
      "metadata": {
        "id": "b1qvLQSg-twp"
      }
    },
    {
      "cell_type": "code",
      "source": [
        "origin = \"https://download.microsoft.com/download/3/E/1/3E1C3F21-ECDB-4869-8368-6DEBA77B919F/kagglecatsanddogs_5340.zip\"\n",
        "\n",
        "Helper = Helper(origin=origin)\n",
        "\n",
        "sources = Helper.Filer"
      ],
      "metadata": {
        "id": "-J85pbqIcPi_"
      },
      "execution_count": null,
      "outputs": []
    },
    {
      "cell_type": "code",
      "source": [
        "for t in sources:\n",
        "  Helper.Filter(t)"
      ],
      "metadata": {
        "id": "oo8sCQtfcTYQ"
      },
      "execution_count": null,
      "outputs": []
    },
    {
      "cell_type": "code",
      "source": [
        "image_dir = \"/tmp/images\"\n",
        "\n",
        "if os.path.exists(image_dir):\n",
        "    shutil.rmtree(image_dir)\n",
        "else:\n",
        "    os.mkdir(image_dir)\n",
        "\n",
        "for folder in [\"training\", \"testing\"]:\n",
        "    fone = os.path.join(image_dir, folder)\n",
        "    os.mkdir(fone)\n",
        "    for label in [\"cat\", \"dog\"]:\n",
        "        flabel = os.path.join(fone, label)\n",
        "        os.mkdir(flabel)"
      ],
      "metadata": {
        "id": "AJ7oHYV0cVk3"
      },
      "execution_count": null,
      "outputs": []
    },
    {
      "cell_type": "code",
      "source": [
        "root_train = \"/tmp/images/training\"; root_testi = \"/tmp/images/testing\"\n",
        "\n",
        "trc = os.path.join(root_train, \"cat\")\n",
        "\n",
        "ttc = os.path.join(root_testi, \"cat\")\n",
        "\n",
        "Helper.Traintest(sources[0], trc, ttc)"
      ],
      "metadata": {
        "colab": {
          "base_uri": "https://localhost:8080/"
        },
        "id": "3DKgLyGgcYEd",
        "outputId": "7481119e-e756-4e70-942b-8f309edcae76"
      },
      "execution_count": null,
      "outputs": [
        {
          "output_type": "execute_result",
          "data": {
            "text/plain": [
              "{'train': 10567, 'test': 1175}"
            ]
          },
          "metadata": {},
          "execution_count": 5
        }
      ]
    },
    {
      "cell_type": "code",
      "source": [
        "trd = os.path.join(root_train, \"dog\")\n",
        "\n",
        "ttd = os.path.join(root_testi, \"dog\")\n",
        "\n",
        "Helper.Traintest(sources[1], trd, ttd)"
      ],
      "metadata": {
        "colab": {
          "base_uri": "https://localhost:8080/"
        },
        "id": "aqxbT6-occpb",
        "outputId": "f19df204-d035-4958-845d-4c793ca4be66"
      },
      "execution_count": null,
      "outputs": [
        {
          "output_type": "execute_result",
          "data": {
            "text/plain": [
              "{'train': 10503, 'test': 1167}"
            ]
          },
          "metadata": {},
          "execution_count": 6
        }
      ]
    },
    {
      "cell_type": "code",
      "source": [
        "image_size = (150, 150); batch_size = 128\n",
        "\n",
        "label_mode = \"binary\"; interpolation = \"nearest\"\n",
        "\n",
        "train = utils.image_dataset_from_directory(\n",
        "    root_train,\n",
        "    image_size=image_size,\n",
        "    batch_size=batch_size,\n",
        "    label_mode=label_mode,\n",
        "    interpolation=interpolation)\n",
        "\n",
        "testi = utils.image_dataset_from_directory(\n",
        "    root_testi,\n",
        "    image_size=image_size,\n",
        "    batch_size=batch_size,\n",
        "    label_mode=label_mode,\n",
        "    interpolation=interpolation)"
      ],
      "metadata": {
        "id": "2WxmL_uBcgMd"
      },
      "execution_count": null,
      "outputs": []
    },
    {
      "cell_type": "code",
      "source": [
        "def norm(image, label):\n",
        "  image = tf.cast(image, tf.float32)\n",
        "  image = tf.math.divide(image, 255.0)\n",
        "  return image, label\n",
        "\n",
        "train = train.map(norm).shuffle(100).cache().prefetch(1)\n",
        "\n",
        "testi = testi.map(norm)"
      ],
      "metadata": {
        "id": "wPoTCeJkcj-W"
      },
      "execution_count": null,
      "outputs": []
    },
    {
      "cell_type": "markdown",
      "source": [
        "### ```Model I```"
      ],
      "metadata": {
        "id": "8CyTu9DC-wuy"
      }
    },
    {
      "cell_type": "code",
      "source": [
        "from tensorflow.keras.models import Sequential\n",
        "\n",
        "input_shape = (150, 150, 3); node = 1; lr = 0.001\n",
        "\n",
        "pre_model = Sequential([\n",
        "    layers.RandomFlip(input_shape=input_shape),\n",
        "    layers.RandomRotation(factor=0.4),\n",
        "    layers.RandomTranslation(height_factor=0.2, width_factor=0.2, interpolation=interpolation),\n",
        "    layers.RandomZoom(height_factor=0.2, interpolation=interpolation)\n",
        "])\n",
        "\n",
        "\n",
        "model = Sequential([\n",
        "    pre_model,\n",
        "\n",
        "    layers.Conv2D(16, 3, activation=\"relu\", padding=\"same\"),\n",
        "    layers.BatchNormalization(),\n",
        "    layers.MaxPooling2D(2, 2),\n",
        "\n",
        "    layers.Conv2D(32, 3, activation=\"relu\", padding=\"same\"),\n",
        "    layers.BatchNormalization(),\n",
        "    layers.MaxPooling2D(2, 2),\n",
        "\n",
        "    layers.Conv2D(64, 3, activation=\"relu\", padding=\"same\"),\n",
        "    layers.BatchNormalization(),\n",
        "    layers.MaxPooling2D(2, 2),\n",
        "\n",
        "    layers.Conv2D(128, 3, activation=\"relu\", padding=\"same\"),\n",
        "    layers.BatchNormalization(),\n",
        "    layers.MaxPooling2D(2, 2),\n",
        "\n",
        "    layers.Dropout(0.4),\n",
        "\n",
        "    layers.Flatten(),\n",
        "    layers.Dense(512, activation=\"relu\"),\n",
        "    layers.Dense(node, activation=\"sigmoid\")\n",
        "])"
      ],
      "metadata": {
        "id": "hiq4e45-co4g"
      },
      "execution_count": null,
      "outputs": []
    },
    {
      "cell_type": "code",
      "source": [
        "optimizer = tf.keras.optimizers.RMSprop(learning_rate=lr, weight_decay=lr)\n",
        "loss = tf.keras.losses.BinaryCrossentropy()\n",
        "metrics = tf.keras.metrics.BinaryAccuracy()\n",
        "\n",
        "model.compile(optimizer=optimizer, loss=loss, metrics=metrics)"
      ],
      "metadata": {
        "id": "_58d0KVscrN9"
      },
      "execution_count": null,
      "outputs": []
    },
    {
      "cell_type": "code",
      "source": [
        "from tensorflow.keras.callbacks import EarlyStopping\n",
        "\n",
        "epochs = 15\n",
        "\n",
        "patience = 5; verbose = 1\n",
        "\n",
        "model_hist = model.fit(train, validation_data=testi,\n",
        "                       epochs=epochs, verbose=verbose,\n",
        "                       callbacks=[EarlyStopping(monitor=\"val_binary_accuracy\", patience=patience)])"
      ],
      "metadata": {
        "id": "S3uQCqSlctin"
      },
      "execution_count": null,
      "outputs": []
    },
    {
      "cell_type": "markdown",
      "source": [
        "### ```Model II```"
      ],
      "metadata": {
        "id": "Cz5DE4vu-9uq"
      }
    },
    {
      "cell_type": "code",
      "source": [
        "model.evaluate(train, verbose=0)"
      ],
      "metadata": {
        "colab": {
          "base_uri": "https://localhost:8080/"
        },
        "id": "fnf-N1nrcxK0",
        "outputId": "0f7ff4d9-0840-43c4-bfb1-f5c8153d7a68"
      },
      "execution_count": null,
      "outputs": [
        {
          "output_type": "execute_result",
          "data": {
            "text/plain": [
              "[0.40152427554130554, 0.8187772631645203]"
            ]
          },
          "metadata": {},
          "execution_count": 12
        }
      ]
    },
    {
      "cell_type": "code",
      "source": [
        "model.evaluate(testi, verbose=0)"
      ],
      "metadata": {
        "colab": {
          "base_uri": "https://localhost:8080/"
        },
        "id": "PRLVPnn5czQf",
        "outputId": "898e2c01-d821-4a81-b39e-9cb66b36c964"
      },
      "execution_count": null,
      "outputs": [
        {
          "output_type": "execute_result",
          "data": {
            "text/plain": [
              "[0.3863263428211212, 0.833475649356842]"
            ]
          },
          "metadata": {},
          "execution_count": 13
        }
      ]
    },
    {
      "cell_type": "code",
      "source": [
        "from Histplot import Histplot\n",
        "\n",
        "image_hist = Histplot(model_hist, hist_acc=\"binary_accuracy\")"
      ],
      "metadata": {
        "id": "xOPAAf9Fc3pG"
      },
      "execution_count": null,
      "outputs": []
    },
    {
      "cell_type": "code",
      "source": [
        "image_hist.Trainplot()"
      ],
      "metadata": {
        "colab": {
          "base_uri": "https://localhost:8080/",
          "height": 528
        },
        "id": "mv-ZS9N2c5LB",
        "outputId": "25315dc7-6f33-412c-994b-60813e3ee912"
      },
      "execution_count": null,
      "outputs": [
        {
          "output_type": "display_data",
          "data": {
            "text/plain": [
              "<Figure size 1000x500 with 2 Axes>"
            ],
            "image/png": "[encoded data removed]"
          },
          "metadata": {}
        }
      ]
    },
    {
      "cell_type": "code",
      "source": [
        "image_hist.Testiplot()"
      ],
      "metadata": {
        "colab": {
          "base_uri": "https://localhost:8080/",
          "height": 528
        },
        "id": "FDB1G_-xdInt",
        "outputId": "386ab4a7-98cc-4953-899b-fd1566270351"
      },
      "execution_count": null,
      "outputs": [
        {
          "output_type": "display_data",
          "data": {
            "text/plain": [
              "<Figure size 1000x500 with 2 Axes>"
            ],
            "image/png": "[encoded data removed]"
          },
          "metadata": {}
        }
      ]
    },
    {
      "cell_type": "markdown",
      "source": [
        "### ```Model III```"
      ],
      "metadata": {
        "id": "l2nVxbR-_E7y"
      }
    },
    {
      "cell_type": "code",
      "source": [
        "model_path = \"/tmp/model\"\n",
        "\n",
        "tf.saved_model.save(model, model_path)"
      ],
      "metadata": {
        "id": "MEO6L89rdLFL"
      },
      "execution_count": null,
      "outputs": []
    },
    {
      "cell_type": "code",
      "source": [
        "from Haunt import Tensolite\n",
        "\n",
        "filemega = lambda filepath : os.path.getsize(filepath) / float(2**20)\n",
        "\n",
        "optm = [tf.lite.Optimize.DEFAULT]\n",
        "\n",
        "tflite_model = Tensolite(model, optm=optm, filename=\"normal_model\")\n",
        "\n",
        "round(filemega(\"/content/normal_model.tflite\"), 3)"
      ],
      "metadata": {
        "colab": {
          "base_uri": "https://localhost:8080/"
        },
        "id": "5hb422KWfH5g",
        "outputId": "aea68fc1-9ad0-4134-878c-fbba08e379ab"
      },
      "execution_count": null,
      "outputs": [
        {
          "output_type": "execute_result",
          "data": {
            "text/plain": [
              "20.634"
            ]
          },
          "metadata": {},
          "execution_count": 19
        }
      ]
    },
    {
      "cell_type": "code",
      "source": [
        "train_image, train_label = next(iter(train))\n",
        "\n",
        "def mini_datagen():\n",
        "  for t in dataset.from_tensor_slices(train_image).batch(1).take(100):\n",
        "    yield [t]"
      ],
      "metadata": {
        "id": "Q_DHvu96fTPj"
      },
      "execution_count": null,
      "outputs": []
    },
    {
      "cell_type": "code",
      "source": [
        "tflite_model = lite.from_saved_model(model_path)\n",
        "\n",
        "tflite_model.optimizations = [tf.lite.Optimize.DEFAULT]\n",
        "\n",
        "tflite_model.representative_dataset = mini_datagen"
      ],
      "metadata": {
        "id": "uqOmO-O9fWy6"
      },
      "execution_count": null,
      "outputs": []
    },
    {
      "cell_type": "code",
      "source": [
        "tflite_model.target_spec.supported_ops"
      ],
      "metadata": {
        "colab": {
          "base_uri": "https://localhost:8080/"
        },
        "id": "pfsMxhLEfY4I",
        "outputId": "0ade3735-051d-445c-ac63-4815aa67fd56"
      },
      "execution_count": null,
      "outputs": [
        {
          "output_type": "execute_result",
          "data": {
            "text/plain": [
              "{<OpsSet.TFLITE_BUILTINS: 'TFLITE_BUILTINS'>}"
            ]
          },
          "metadata": {},
          "execution_count": 23
        }
      ]
    },
    {
      "cell_type": "code",
      "source": [
        "tflite_model.target_spec.supported_ops = [tf.lite.OpsSet.TFLITE_BUILTINS_INT8]\n",
        "\n",
        "tflite_model.target_spec.supported_ops"
      ],
      "metadata": {
        "colab": {
          "base_uri": "https://localhost:8080/"
        },
        "id": "jGcSRzkIfhYN",
        "outputId": "3290a175-b71c-44a4-e385-c441b3257cae"
      },
      "execution_count": null,
      "outputs": [
        {
          "output_type": "execute_result",
          "data": {
            "text/plain": [
              "[<OpsSet.TFLITE_BUILTINS_INT8: 'TFLITE_BUILTINS_INT8'>]"
            ]
          },
          "metadata": {},
          "execution_count": 24
        }
      ]
    },
    {
      "cell_type": "code",
      "source": [
        "tflite_model.inference_input_type, tflite_model.inference_output_type"
      ],
      "metadata": {
        "colab": {
          "base_uri": "https://localhost:8080/"
        },
        "id": "ezkDN5w_fjYj",
        "outputId": "14e810f2-d662-4d42-ee28-4f431968b08a"
      },
      "execution_count": null,
      "outputs": [
        {
          "output_type": "execute_result",
          "data": {
            "text/plain": [
              "(tf.float32, tf.float32)"
            ]
          },
          "metadata": {},
          "execution_count": 25
        }
      ]
    },
    {
      "cell_type": "code",
      "source": [
        "tflite_model.inference_input_type = tf.uint8\n",
        "\n",
        "tflite_model.inference_output_type = tf.uint8\n",
        "\n",
        "tflite_model.inference_input_type, tflite_model.inference_output_type"
      ],
      "metadata": {
        "colab": {
          "base_uri": "https://localhost:8080/"
        },
        "id": "YVbfjwxlflCk",
        "outputId": "4363b2b0-84f9-419a-c6bc-176fbd1f061f"
      },
      "execution_count": null,
      "outputs": [
        {
          "output_type": "execute_result",
          "data": {
            "text/plain": [
              "(tf.uint8, tf.uint8)"
            ]
          },
          "metadata": {},
          "execution_count": 26
        }
      ]
    },
    {
      "cell_type": "code",
      "source": [
        "tflite_model_quant = tflite_model.convert()\n",
        "\n",
        "tflite_model_file = pathlib.Path(\"quant_lite.tflite\")\n",
        "\n",
        "tflite_model_file.write_bytes(tflite_model_quant)"
      ],
      "metadata": {
        "colab": {
          "base_uri": "https://localhost:8080/"
        },
        "id": "DNwpQN4Jfm9Z",
        "outputId": "d4014e6a-5901-4ecd-d0ac-d8ac25ce46a7"
      },
      "execution_count": null,
      "outputs": [
        {
          "output_type": "execute_result",
          "data": {
            "text/plain": [
              "5424416"
            ]
          },
          "metadata": {},
          "execution_count": 27
        }
      ]
    },
    {
      "cell_type": "code",
      "source": [
        "round(filemega(\"/content/quant_lite.tflite\"), 3)"
      ],
      "metadata": {
        "colab": {
          "base_uri": "https://localhost:8080/"
        },
        "id": "1o5Dv4PTfq4P",
        "outputId": "8b297d65-4e83-4d02-bc14-7e406e7d9542"
      },
      "execution_count": null,
      "outputs": [
        {
          "output_type": "execute_result",
          "data": {
            "text/plain": [
              "5.173"
            ]
          },
          "metadata": {},
          "execution_count": 28
        }
      ]
    }
  ]
}